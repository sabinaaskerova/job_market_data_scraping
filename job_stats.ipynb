{
 "cells": [
  {
   "cell_type": "code",
   "execution_count": 2,
   "metadata": {},
   "outputs": [],
   "source": [
    "import numpy as np\n",
    "import pandas as pd\n",
    "import json\n",
    "from collections import defaultdict"
   ]
  },
  {
   "cell_type": "markdown",
   "metadata": {},
   "source": [
    "### Load jobs data"
   ]
  },
  {
   "cell_type": "code",
   "execution_count": 3,
   "metadata": {},
   "outputs": [
    {
     "data": {
      "text/html": [
       "<div>\n",
       "<style scoped>\n",
       "    .dataframe tbody tr th:only-of-type {\n",
       "        vertical-align: middle;\n",
       "    }\n",
       "\n",
       "    .dataframe tbody tr th {\n",
       "        vertical-align: top;\n",
       "    }\n",
       "\n",
       "    .dataframe thead th {\n",
       "        text-align: right;\n",
       "    }\n",
       "</style>\n",
       "<table border=\"1\" class=\"dataframe\">\n",
       "  <thead>\n",
       "    <tr style=\"text-align: right;\">\n",
       "      <th></th>\n",
       "      <th>company_name</th>\n",
       "      <th>job_title</th>\n",
       "      <th>location</th>\n",
       "      <th>posted_date</th>\n",
       "      <th>contract_type</th>\n",
       "      <th>remote_status</th>\n",
       "      <th>job_link</th>\n",
       "    </tr>\n",
       "  </thead>\n",
       "  <tbody>\n",
       "    <tr>\n",
       "      <th>0</th>\n",
       "      <td>Bump</td>\n",
       "      <td>Customer Accountant / Comptable Clients</td>\n",
       "      <td>Paris</td>\n",
       "      <td>2024-11-22T17:19:14Z</td>\n",
       "      <td>Permanent contract</td>\n",
       "      <td>A few days at home</td>\n",
       "      <td>/en/companies/bump-charge/jobs/customer-accoun...</td>\n",
       "    </tr>\n",
       "    <tr>\n",
       "      <th>1</th>\n",
       "      <td>Bump</td>\n",
       "      <td>Senior Legal Counsel</td>\n",
       "      <td>Paris</td>\n",
       "      <td>2024-11-22T14:48:44Z</td>\n",
       "      <td>Permanent contract</td>\n",
       "      <td>A few days at home</td>\n",
       "      <td>/en/companies/bump-charge/jobs/senior-legal-co...</td>\n",
       "    </tr>\n",
       "    <tr>\n",
       "      <th>2</th>\n",
       "      <td>Bump</td>\n",
       "      <td>Operation Manager</td>\n",
       "      <td>Paris</td>\n",
       "      <td>2024-11-19T14:52:17Z</td>\n",
       "      <td>Internship</td>\n",
       "      <td></td>\n",
       "      <td>/en/companies/bump-charge/jobs/operation-manag...</td>\n",
       "    </tr>\n",
       "    <tr>\n",
       "      <th>3</th>\n",
       "      <td>Bump</td>\n",
       "      <td>Responsable d'Affaires eMobility</td>\n",
       "      <td>Lyon</td>\n",
       "      <td>2024-11-18T09:22:23Z</td>\n",
       "      <td>Permanent contract</td>\n",
       "      <td>A few days at home</td>\n",
       "      <td>/en/companies/bump-charge/jobs/responsable-d-a...</td>\n",
       "    </tr>\n",
       "    <tr>\n",
       "      <th>4</th>\n",
       "      <td>Bump</td>\n",
       "      <td>Technical Support Engineer</td>\n",
       "      <td>Paris</td>\n",
       "      <td>2024-11-07T15:04:22Z</td>\n",
       "      <td>Permanent contract</td>\n",
       "      <td>A few days at home</td>\n",
       "      <td>/en/companies/bump-charge/jobs/ingenieur-techn...</td>\n",
       "    </tr>\n",
       "  </tbody>\n",
       "</table>\n",
       "</div>"
      ],
      "text/plain": [
       "  company_name                                job_title location  \\\n",
       "0         Bump  Customer Accountant / Comptable Clients    Paris   \n",
       "1         Bump                     Senior Legal Counsel    Paris   \n",
       "2         Bump                        Operation Manager    Paris   \n",
       "3         Bump         Responsable d'Affaires eMobility     Lyon   \n",
       "4         Bump               Technical Support Engineer    Paris   \n",
       "\n",
       "            posted_date       contract_type       remote_status  \\\n",
       "0  2024-11-22T17:19:14Z  Permanent contract  A few days at home   \n",
       "1  2024-11-22T14:48:44Z  Permanent contract  A few days at home   \n",
       "2  2024-11-19T14:52:17Z          Internship                       \n",
       "3  2024-11-18T09:22:23Z  Permanent contract  A few days at home   \n",
       "4  2024-11-07T15:04:22Z  Permanent contract  A few days at home   \n",
       "\n",
       "                                            job_link  \n",
       "0  /en/companies/bump-charge/jobs/customer-accoun...  \n",
       "1  /en/companies/bump-charge/jobs/senior-legal-co...  \n",
       "2  /en/companies/bump-charge/jobs/operation-manag...  \n",
       "3  /en/companies/bump-charge/jobs/responsable-d-a...  \n",
       "4  /en/companies/bump-charge/jobs/ingenieur-techn...  "
      ]
     },
     "execution_count": 3,
     "metadata": {},
     "output_type": "execute_result"
    }
   ],
   "source": [
    "input_file = \"job_data.json\"\n",
    "\n",
    "df = pd.read_json(input_file)\n",
    "df.head()"
   ]
  },
  {
   "cell_type": "markdown",
   "metadata": {},
   "source": [
    "### Count some NaNs"
   ]
  },
  {
   "cell_type": "code",
   "execution_count": 4,
   "metadata": {},
   "outputs": [
    {
     "name": "stdout",
     "output_type": "stream",
     "text": [
      "company_name     5\n",
      "job_title        0\n",
      "location         0\n",
      "posted_date      0\n",
      "contract_type    0\n",
      "remote_status    0\n",
      "job_link         0\n",
      "dtype: int64\n"
     ]
    }
   ],
   "source": [
    "print(df.isna().sum())"
   ]
  },
  {
   "cell_type": "markdown",
   "metadata": {},
   "source": [
    "we have only 5 NaNs in company_name column in our dataset"
   ]
  },
  {
   "cell_type": "code",
   "execution_count": 11,
   "metadata": {},
   "outputs": [
    {
     "data": {
      "text/html": [
       "<div>\n",
       "<style scoped>\n",
       "    .dataframe tbody tr th:only-of-type {\n",
       "        vertical-align: middle;\n",
       "    }\n",
       "\n",
       "    .dataframe tbody tr th {\n",
       "        vertical-align: top;\n",
       "    }\n",
       "\n",
       "    .dataframe thead th {\n",
       "        text-align: right;\n",
       "    }\n",
       "</style>\n",
       "<table border=\"1\" class=\"dataframe\">\n",
       "  <thead>\n",
       "    <tr style=\"text-align: right;\">\n",
       "      <th></th>\n",
       "      <th>company_name</th>\n",
       "      <th>job_title</th>\n",
       "      <th>location</th>\n",
       "      <th>posted_date</th>\n",
       "      <th>contract_type</th>\n",
       "      <th>remote_status</th>\n",
       "      <th>job_link</th>\n",
       "    </tr>\n",
       "  </thead>\n",
       "  <tbody>\n",
       "    <tr>\n",
       "      <th>1436</th>\n",
       "      <td>None</td>\n",
       "      <td>Suivi de maintenance et performance en Géothermie</td>\n",
       "      <td>Clamart</td>\n",
       "      <td>2024-11-25T16:38:42Z</td>\n",
       "      <td>Internship</td>\n",
       "      <td></td>\n",
       "      <td>/en/companies/celsius-energy/jobs/suivi-de-mai...</td>\n",
       "    </tr>\n",
       "    <tr>\n",
       "      <th>1437</th>\n",
       "      <td>None</td>\n",
       "      <td>Stage- Office manager</td>\n",
       "      <td>Clamart</td>\n",
       "      <td>2024-11-12T17:04:59Z</td>\n",
       "      <td>Internship</td>\n",
       "      <td></td>\n",
       "      <td>/en/companies/celsius-energy/jobs/stage-office...</td>\n",
       "    </tr>\n",
       "    <tr>\n",
       "      <th>1438</th>\n",
       "      <td>None</td>\n",
       "      <td>Stage- Développement d'outils numériques pour ...</td>\n",
       "      <td>Clamart</td>\n",
       "      <td>2024-11-12T16:55:17Z</td>\n",
       "      <td>Internship</td>\n",
       "      <td></td>\n",
       "      <td>/en/companies/celsius-energy/jobs/stage-develo...</td>\n",
       "    </tr>\n",
       "    <tr>\n",
       "      <th>1439</th>\n",
       "      <td>None</td>\n",
       "      <td>Technico-Commercial Géoénergie</td>\n",
       "      <td>Clamart</td>\n",
       "      <td>2024-10-24T09:59:39Z</td>\n",
       "      <td>Permanent contract</td>\n",
       "      <td>Fully-remote</td>\n",
       "      <td>/en/companies/celsius-energy/jobs/technico-com...</td>\n",
       "    </tr>\n",
       "    <tr>\n",
       "      <th>1440</th>\n",
       "      <td>None</td>\n",
       "      <td>Stage - Digital - Montpellier - Développement ...</td>\n",
       "      <td>Clamart</td>\n",
       "      <td>2024-10-24T09:52:43Z</td>\n",
       "      <td>Internship</td>\n",
       "      <td></td>\n",
       "      <td>/en/companies/celsius-energy/jobs/stage-digita...</td>\n",
       "    </tr>\n",
       "  </tbody>\n",
       "</table>\n",
       "</div>"
      ],
      "text/plain": [
       "     company_name                                          job_title location  \\\n",
       "1436         None  Suivi de maintenance et performance en Géothermie  Clamart   \n",
       "1437         None                              Stage- Office manager  Clamart   \n",
       "1438         None  Stage- Développement d'outils numériques pour ...  Clamart   \n",
       "1439         None                     Technico-Commercial Géoénergie  Clamart   \n",
       "1440         None  Stage - Digital - Montpellier - Développement ...  Clamart   \n",
       "\n",
       "               posted_date       contract_type remote_status  \\\n",
       "1436  2024-11-25T16:38:42Z          Internship                 \n",
       "1437  2024-11-12T17:04:59Z          Internship                 \n",
       "1438  2024-11-12T16:55:17Z          Internship                 \n",
       "1439  2024-10-24T09:59:39Z  Permanent contract  Fully-remote   \n",
       "1440  2024-10-24T09:52:43Z          Internship                 \n",
       "\n",
       "                                               job_link  \n",
       "1436  /en/companies/celsius-energy/jobs/suivi-de-mai...  \n",
       "1437  /en/companies/celsius-energy/jobs/stage-office...  \n",
       "1438  /en/companies/celsius-energy/jobs/stage-develo...  \n",
       "1439  /en/companies/celsius-energy/jobs/technico-com...  \n",
       "1440  /en/companies/celsius-energy/jobs/stage-digita...  "
      ]
     },
     "execution_count": 11,
     "metadata": {},
     "output_type": "execute_result"
    }
   ],
   "source": [
    "df[df['company_name'].isna()]"
   ]
  },
  {
   "cell_type": "markdown",
   "metadata": {},
   "source": [
    "And basically, we can see from the link that the company name is Celsius-Energy actually"
   ]
  },
  {
   "cell_type": "markdown",
   "metadata": {},
   "source": [
    "### Now, some stats"
   ]
  },
  {
   "cell_type": "code",
   "execution_count": 15,
   "metadata": {},
   "outputs": [
    {
     "name": "stdout",
     "output_type": "stream",
     "text": [
      "Total data rows:  3893\n",
      "\n",
      "\n",
      "Unique data in each column: \n",
      "company_name      420\n",
      "job_title        3512\n",
      "location          405\n",
      "posted_date      3699\n",
      "contract_type       8\n",
      "remote_status       3\n",
      "job_link         3893\n",
      "dtype: int64\n"
     ]
    }
   ],
   "source": [
    "print(\"Total data rows: \", len(df))\n",
    "print(\"\\n\")\n",
    "\n",
    "print(\"Unique data in each column: \")\n",
    "print(df.nunique())"
   ]
  },
  {
   "cell_type": "markdown",
   "metadata": {},
   "source": [
    "#### Let's compute remote options:"
   ]
  },
  {
   "cell_type": "code",
   "execution_count": 40,
   "metadata": {},
   "outputs": [
    {
     "name": "stdout",
     "output_type": "stream",
     "text": [
      "dict_items([('A few days at home', 1452), ('', 2194), ('Fully-remote', 247)])\n"
     ]
    }
   ],
   "source": [
    "remote = defaultdict(int)\n",
    "for s in df['remote_status']:\n",
    "    remote[s] += 1\n",
    "print(remote.items())"
   ]
  },
  {
   "cell_type": "markdown",
   "metadata": {},
   "source": [
    "#### And the contract type:"
   ]
  },
  {
   "cell_type": "code",
   "execution_count": 36,
   "metadata": {},
   "outputs": [
    {
     "name": "stdout",
     "output_type": "stream",
     "text": [
      "Sorted contract types:\n",
      "Permanent contract 2746\n",
      "Internship 792\n",
      "Temporary 115\n",
      "Other 86\n",
      "Work study 80\n",
      "Freelance 48\n",
      "Part time 16\n",
      "International Corporate Volunteer Program 10\n"
     ]
    }
   ],
   "source": [
    "c_type = defaultdict(int)\n",
    "for s in df['contract_type']:\n",
    "    c_type[s] += 1\n",
    "\n",
    "print(\"Sorted contract types:\")\n",
    "for k, v in sorted(c_type.items(), key=lambda item: -item[1]):\n",
    "    print(k, v)"
   ]
  },
  {
   "cell_type": "markdown",
   "metadata": {},
   "source": [
    "### And the top-10 locations:"
   ]
  },
  {
   "cell_type": "code",
   "execution_count": 38,
   "metadata": {},
   "outputs": [
    {
     "name": "stdout",
     "output_type": "stream",
     "text": [
      "Most popular locations:\n",
      "Paris 1649\n",
      "Lyon 110\n",
      "London 100\n",
      "Puteaux 83\n",
      "Toulouse 75\n",
      "Boulogne-Billancourt 65\n",
      "Barcelona 58\n",
      "Bordeaux 50\n",
      "Brussel 49\n",
      "New York 49\n"
     ]
    }
   ],
   "source": [
    "location = defaultdict(int)\n",
    "for s in df['location']:\n",
    "    location[s] += 1\n",
    "\n",
    "print(\"Most popular locations:\")\n",
    "for k, v in sorted(location.items(), key=lambda item: -item[1])[:10]:\n",
    "    print(k, v)"
   ]
  }
 ],
 "metadata": {
  "kernelspec": {
   "display_name": "gpu_t",
   "language": "python",
   "name": "python3"
  },
  "language_info": {
   "codemirror_mode": {
    "name": "ipython",
    "version": 3
   },
   "file_extension": ".py",
   "mimetype": "text/x-python",
   "name": "python",
   "nbconvert_exporter": "python",
   "pygments_lexer": "ipython3",
   "version": "3.12.7"
  }
 },
 "nbformat": 4,
 "nbformat_minor": 2
}
