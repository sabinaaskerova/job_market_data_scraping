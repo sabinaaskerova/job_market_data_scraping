{
 "cells": [
  {
   "cell_type": "code",
   "execution_count": 1,
   "metadata": {},
   "outputs": [],
   "source": [
    "import numpy as np\n",
    "import pandas as pd\n",
    "import json\n",
    "from collections import defaultdict"
   ]
  },
  {
   "cell_type": "markdown",
   "metadata": {},
   "source": [
    "### Load the data (cleaned)"
   ]
  },
  {
   "cell_type": "code",
   "execution_count": 2,
   "metadata": {},
   "outputs": [
    {
     "data": {
      "text/html": [
       "<div>\n",
       "<style scoped>\n",
       "    .dataframe tbody tr th:only-of-type {\n",
       "        vertical-align: middle;\n",
       "    }\n",
       "\n",
       "    .dataframe tbody tr th {\n",
       "        vertical-align: top;\n",
       "    }\n",
       "\n",
       "    .dataframe thead th {\n",
       "        text-align: right;\n",
       "    }\n",
       "</style>\n",
       "<table border=\"1\" class=\"dataframe\">\n",
       "  <thead>\n",
       "    <tr style=\"text-align: right;\">\n",
       "      <th></th>\n",
       "      <th>name</th>\n",
       "      <th>sector</th>\n",
       "      <th>website</th>\n",
       "      <th>year_of_founding</th>\n",
       "      <th>employees</th>\n",
       "      <th>gender_breakdown</th>\n",
       "      <th>average_age</th>\n",
       "      <th>social_links</th>\n",
       "      <th>text_blocks</th>\n",
       "      <th>id</th>\n",
       "      <th>...</th>\n",
       "      <th>Description _entities</th>\n",
       "      <th>About Loono_entities</th>\n",
       "      <th>The story of Livesport_entities</th>\n",
       "      <th>What is good to know_entities</th>\n",
       "      <th>Who are they looking for_entities</th>\n",
       "      <th>The beating IT heart of Heidelberg Materials_entities</th>\n",
       "      <th>A great match for the team_entities</th>\n",
       "      <th>A place you never get bored of_entities</th>\n",
       "      <th>About us_entities</th>\n",
       "      <th>What are they looking for ?_entities</th>\n",
       "    </tr>\n",
       "  </thead>\n",
       "  <tbody>\n",
       "    <tr>\n",
       "      <th>0</th>\n",
       "      <td>Filigran</td>\n",
       "      <td>[Cyber Security, SaaS, Cloud Services, Software]</td>\n",
       "      <td>https://www.filigran.io</td>\n",
       "      <td>2022.0</td>\n",
       "      <td>74.0</td>\n",
       "      <td>{'women': '37', 'men': '63'}</td>\n",
       "      <td>36.0</td>\n",
       "      <td>{'facebook': 'https://www.facebook.com/Filigra...</td>\n",
       "      <td>{'Presentation': 'Filigran provides cyber thre...</td>\n",
       "      <td>136</td>\n",
       "      <td>...</td>\n",
       "      <td>NaN</td>\n",
       "      <td>NaN</td>\n",
       "      <td>NaN</td>\n",
       "      <td>NaN</td>\n",
       "      <td>NaN</td>\n",
       "      <td>NaN</td>\n",
       "      <td>NaN</td>\n",
       "      <td>NaN</td>\n",
       "      <td>NaN</td>\n",
       "      <td>NaN</td>\n",
       "    </tr>\n",
       "    <tr>\n",
       "      <th>1</th>\n",
       "      <td>Atomic Digital Design</td>\n",
       "      <td>[Digital]</td>\n",
       "      <td>https://atomicdigital.design</td>\n",
       "      <td>2012.0</td>\n",
       "      <td>70.0</td>\n",
       "      <td>{'women': '35', 'men': '65'}</td>\n",
       "      <td>31.0</td>\n",
       "      <td>{'instagram': 'https://instagram.com/atomicdig...</td>\n",
       "      <td>{'Presentation': 'Founded by Antoine Vu, winne...</td>\n",
       "      <td>57</td>\n",
       "      <td>...</td>\n",
       "      <td>NaN</td>\n",
       "      <td>NaN</td>\n",
       "      <td>NaN</td>\n",
       "      <td>NaN</td>\n",
       "      <td>NaN</td>\n",
       "      <td>NaN</td>\n",
       "      <td>NaN</td>\n",
       "      <td>NaN</td>\n",
       "      <td>NaN</td>\n",
       "      <td>NaN</td>\n",
       "    </tr>\n",
       "    <tr>\n",
       "      <th>2</th>\n",
       "      <td>Oncrawl</td>\n",
       "      <td>[Digital Marketing, Data Marketing]</td>\n",
       "      <td>https://www.oncrawl.com</td>\n",
       "      <td>2013.0</td>\n",
       "      <td>34.0</td>\n",
       "      <td>{'women': '40', 'men': '60'}</td>\n",
       "      <td>31.0</td>\n",
       "      <td>{'linkedin': 'https://www.linkedin.com/company...</td>\n",
       "      <td>{'Presentation': 'Oncrawl provides data for te...</td>\n",
       "      <td>553</td>\n",
       "      <td>...</td>\n",
       "      <td>NaN</td>\n",
       "      <td>NaN</td>\n",
       "      <td>NaN</td>\n",
       "      <td>NaN</td>\n",
       "      <td>NaN</td>\n",
       "      <td>NaN</td>\n",
       "      <td>NaN</td>\n",
       "      <td>NaN</td>\n",
       "      <td>NaN</td>\n",
       "      <td>NaN</td>\n",
       "    </tr>\n",
       "    <tr>\n",
       "      <th>3</th>\n",
       "      <td>Inato</td>\n",
       "      <td>[Health, Pharmaceutical, Biotech, Software]</td>\n",
       "      <td>https://inato.com</td>\n",
       "      <td>2016.0</td>\n",
       "      <td>70.0</td>\n",
       "      <td>{'women': '56', 'men': '44'}</td>\n",
       "      <td>35.0</td>\n",
       "      <td>{'linkedin': 'https://www.linkedin.com/company...</td>\n",
       "      <td>{'Presentation': 'Inato is a tech-for-good com...</td>\n",
       "      <td>345</td>\n",
       "      <td>...</td>\n",
       "      <td>NaN</td>\n",
       "      <td>NaN</td>\n",
       "      <td>NaN</td>\n",
       "      <td>NaN</td>\n",
       "      <td>NaN</td>\n",
       "      <td>NaN</td>\n",
       "      <td>NaN</td>\n",
       "      <td>NaN</td>\n",
       "      <td>NaN</td>\n",
       "      <td>NaN</td>\n",
       "    </tr>\n",
       "    <tr>\n",
       "      <th>4</th>\n",
       "      <td>Sinequa</td>\n",
       "      <td>[Artificial Intelligence, Machine Learning, Sa...</td>\n",
       "      <td>https://www.sinequa.com</td>\n",
       "      <td>2002.0</td>\n",
       "      <td>NaN</td>\n",
       "      <td>{'women': '30', 'men': '70'}</td>\n",
       "      <td>36.0</td>\n",
       "      <td>{'linkedin': 'https://www.linkedin.com/company...</td>\n",
       "      <td>{'Presentation': 'Headquartered in Paris with ...</td>\n",
       "      <td>701</td>\n",
       "      <td>...</td>\n",
       "      <td>NaN</td>\n",
       "      <td>NaN</td>\n",
       "      <td>NaN</td>\n",
       "      <td>NaN</td>\n",
       "      <td>NaN</td>\n",
       "      <td>NaN</td>\n",
       "      <td>NaN</td>\n",
       "      <td>NaN</td>\n",
       "      <td>NaN</td>\n",
       "      <td>NaN</td>\n",
       "    </tr>\n",
       "  </tbody>\n",
       "</table>\n",
       "<p>5 rows × 64 columns</p>\n",
       "</div>"
      ],
      "text/plain": [
       "                    name                                             sector  \\\n",
       "0               Filigran   [Cyber Security, SaaS, Cloud Services, Software]   \n",
       "1  Atomic Digital Design                                          [Digital]   \n",
       "2                Oncrawl                [Digital Marketing, Data Marketing]   \n",
       "3                  Inato        [Health, Pharmaceutical, Biotech, Software]   \n",
       "4                Sinequa  [Artificial Intelligence, Machine Learning, Sa...   \n",
       "\n",
       "                        website  year_of_founding  employees  \\\n",
       "0       https://www.filigran.io            2022.0       74.0   \n",
       "1  https://atomicdigital.design            2012.0       70.0   \n",
       "2       https://www.oncrawl.com            2013.0       34.0   \n",
       "3             https://inato.com            2016.0       70.0   \n",
       "4       https://www.sinequa.com            2002.0        NaN   \n",
       "\n",
       "               gender_breakdown  average_age  \\\n",
       "0  {'women': '37', 'men': '63'}         36.0   \n",
       "1  {'women': '35', 'men': '65'}         31.0   \n",
       "2  {'women': '40', 'men': '60'}         31.0   \n",
       "3  {'women': '56', 'men': '44'}         35.0   \n",
       "4  {'women': '30', 'men': '70'}         36.0   \n",
       "\n",
       "                                        social_links  \\\n",
       "0  {'facebook': 'https://www.facebook.com/Filigra...   \n",
       "1  {'instagram': 'https://instagram.com/atomicdig...   \n",
       "2  {'linkedin': 'https://www.linkedin.com/company...   \n",
       "3  {'linkedin': 'https://www.linkedin.com/company...   \n",
       "4  {'linkedin': 'https://www.linkedin.com/company...   \n",
       "\n",
       "                                         text_blocks   id  ...  \\\n",
       "0  {'Presentation': 'Filigran provides cyber thre...  136  ...   \n",
       "1  {'Presentation': 'Founded by Antoine Vu, winne...   57  ...   \n",
       "2  {'Presentation': 'Oncrawl provides data for te...  553  ...   \n",
       "3  {'Presentation': 'Inato is a tech-for-good com...  345  ...   \n",
       "4  {'Presentation': 'Headquartered in Paris with ...  701  ...   \n",
       "\n",
       "  Description _entities About Loono_entities The story of Livesport_entities  \\\n",
       "0                   NaN                  NaN                             NaN   \n",
       "1                   NaN                  NaN                             NaN   \n",
       "2                   NaN                  NaN                             NaN   \n",
       "3                   NaN                  NaN                             NaN   \n",
       "4                   NaN                  NaN                             NaN   \n",
       "\n",
       "  What is good to know_entities Who are they looking for_entities  \\\n",
       "0                           NaN                               NaN   \n",
       "1                           NaN                               NaN   \n",
       "2                           NaN                               NaN   \n",
       "3                           NaN                               NaN   \n",
       "4                           NaN                               NaN   \n",
       "\n",
       "  The beating IT heart of Heidelberg Materials_entities  \\\n",
       "0                                                NaN      \n",
       "1                                                NaN      \n",
       "2                                                NaN      \n",
       "3                                                NaN      \n",
       "4                                                NaN      \n",
       "\n",
       "  A great match for the team_entities A place you never get bored of_entities  \\\n",
       "0                                 NaN                                     NaN   \n",
       "1                                 NaN                                     NaN   \n",
       "2                                 NaN                                     NaN   \n",
       "3                                 NaN                                     NaN   \n",
       "4                                 NaN                                     NaN   \n",
       "\n",
       "  About us_entities What are they looking for ?_entities  \n",
       "0               NaN                                  NaN  \n",
       "1               NaN                                  NaN  \n",
       "2               NaN                                  NaN  \n",
       "3               NaN                                  NaN  \n",
       "4               NaN                                  NaN  \n",
       "\n",
       "[5 rows x 64 columns]"
      ]
     },
     "execution_count": 2,
     "metadata": {},
     "output_type": "execute_result"
    }
   ],
   "source": [
    "df = pd.read_json(\"cleaned_company_data.json\")\n",
    "df.head()"
   ]
  },
  {
   "cell_type": "code",
   "execution_count": 17,
   "metadata": {},
   "outputs": [
    {
     "data": {
      "text/plain": [
       "Index(['name', 'sector', 'website', 'year_of_founding', 'employees',\n",
       "       'gender_breakdown', 'average_age', 'social_links', 'text_blocks', 'id',\n",
       "       'Language', 'Presentation_entities',\n",
       "       'What they are looking for_entities', 'Good to know_entities',\n",
       "       'Description_entities', 'What they're looking for_entities',\n",
       "       '4flow is a global firm_entities', 'Become a 4flower!_entities',\n",
       "       'What you should know_entities', 'Présentation_entities',\n",
       "       'Company Introduction_entities', 'Who Are They Looking for_entities',\n",
       "       'Good to Know_entities', 'Le nom B-HIVE _entities',\n",
       "       'Yves Rocher_entities', 'Petit Bateau_entities',\n",
       "       'People Connected inspiring meaningful experiences._entities',\n",
       "       'Unleash your potential in an empowering culture_entities',\n",
       "       'About_entities', 'Who Are They Looking For_entities',\n",
       "       'Good To Know_entities', 'Looking for_entities',\n",
       "       'About company_entities', 'We are looking for..._entities',\n",
       "       ' _entities', 'About the company_entities',\n",
       "       'Who we are looking for_entities', 'It's good to know_entities',\n",
       "       'Are you the right fit? _entities', 'Life At Philips_entities',\n",
       "       'O Danone_entities', 'Koho hledají_entities',\n",
       "       'Who they're looking for_entities',\n",
       "       'IT at the world’s leading logistics company_entities',\n",
       "       'IT paradise_entities', 'Parenthood in focus_entities',\n",
       "       'They will boost you up_entities',\n",
       "       'Sustainability is second nature to them_entities',\n",
       "       'Thrive in a diverse environment_entities',\n",
       "       'About the organization_entities', 'Company presentation _entities',\n",
       "       'Who will feel great at GRC?_entities', 'Still in Doubt?_entities',\n",
       "       'Nos +_entities', 'Description _entities', 'About Loono_entities',\n",
       "       'The story of Livesport_entities', 'What is good to know_entities',\n",
       "       'Who are they looking for_entities',\n",
       "       'The beating IT heart of Heidelberg Materials_entities',\n",
       "       'A great match for the team_entities',\n",
       "       'A place you never get bored of_entities', 'About us_entities',\n",
       "       'What are they looking for ?_entities'],\n",
       "      dtype='object')"
      ]
     },
     "execution_count": 17,
     "metadata": {},
     "output_type": "execute_result"
    }
   ],
   "source": [
    "df.columns"
   ]
  },
  {
   "cell_type": "markdown",
   "metadata": {},
   "source": [
    "### Check NaNs"
   ]
  },
  {
   "cell_type": "code",
   "execution_count": 23,
   "metadata": {},
   "outputs": [
    {
     "data": {
      "text/html": [
       "<div>\n",
       "<style scoped>\n",
       "    .dataframe tbody tr th:only-of-type {\n",
       "        vertical-align: middle;\n",
       "    }\n",
       "\n",
       "    .dataframe tbody tr th {\n",
       "        vertical-align: top;\n",
       "    }\n",
       "\n",
       "    .dataframe thead th {\n",
       "        text-align: right;\n",
       "    }\n",
       "</style>\n",
       "<table border=\"1\" class=\"dataframe\">\n",
       "  <thead>\n",
       "    <tr style=\"text-align: right;\">\n",
       "      <th></th>\n",
       "      <th>name</th>\n",
       "      <th>sector</th>\n",
       "      <th>website</th>\n",
       "      <th>year_of_founding</th>\n",
       "      <th>employees</th>\n",
       "      <th>gender_breakdown</th>\n",
       "      <th>average_age</th>\n",
       "      <th>social_links</th>\n",
       "      <th>text_blocks</th>\n",
       "      <th>id</th>\n",
       "      <th>...</th>\n",
       "      <th>Description _entities</th>\n",
       "      <th>About Loono_entities</th>\n",
       "      <th>The story of Livesport_entities</th>\n",
       "      <th>What is good to know_entities</th>\n",
       "      <th>Who are they looking for_entities</th>\n",
       "      <th>The beating IT heart of Heidelberg Materials_entities</th>\n",
       "      <th>A great match for the team_entities</th>\n",
       "      <th>A place you never get bored of_entities</th>\n",
       "      <th>About us_entities</th>\n",
       "      <th>What are they looking for ?_entities</th>\n",
       "    </tr>\n",
       "  </thead>\n",
       "  <tbody>\n",
       "  </tbody>\n",
       "</table>\n",
       "<p>0 rows × 64 columns</p>\n",
       "</div>"
      ],
      "text/plain": [
       "Empty DataFrame\n",
       "Columns: [name, sector, website, year_of_founding, employees, gender_breakdown, average_age, social_links, text_blocks, id, Language, Presentation_entities, What they are looking for_entities, Good to know_entities, Description_entities, What they're looking for_entities, 4flow is a global firm_entities, Become a 4flower!_entities, What you should know_entities, Présentation_entities, Company Introduction_entities, Who Are They Looking for_entities, Good to Know_entities, Le nom B-HIVE _entities, Yves Rocher_entities, Petit Bateau_entities, People Connected inspiring meaningful experiences._entities, Unleash your potential in an empowering culture_entities, About_entities, Who Are They Looking For_entities, Good To Know_entities, Looking for_entities, About company_entities, We are looking for..._entities,  _entities, About the company_entities, Who we are looking for_entities, It's good to know_entities, Are you the right fit? _entities, Life At Philips_entities, O Danone_entities, Koho hledají_entities, Who they're looking for_entities, IT at the world’s leading logistics company_entities, IT paradise_entities, Parenthood in focus_entities, They will boost you up_entities, Sustainability is second nature to them_entities, Thrive in a diverse environment_entities, About the organization_entities, Company presentation _entities, Who will feel great at GRC?_entities, Still in Doubt?_entities, Nos +_entities, Description _entities, About Loono_entities, The story of Livesport_entities, What is good to know_entities, Who are they looking for_entities, The beating IT heart of Heidelberg Materials_entities, A great match for the team_entities, A place you never get bored of_entities, About us_entities, What are they looking for ?_entities]\n",
       "Index: []\n",
       "\n",
       "[0 rows x 64 columns]"
      ]
     },
     "execution_count": 23,
     "metadata": {},
     "output_type": "execute_result"
    }
   ],
   "source": [
    "# we don't have any full-NaN rows\n",
    "df[df.isna().sum(axis=1) == len(df)]"
   ]
  },
  {
   "cell_type": "code",
   "execution_count": 20,
   "metadata": {},
   "outputs": [
    {
     "name": "stdout",
     "output_type": "stream",
     "text": [
      "Length of the data frame:  675\n",
      "Number of NaNs in colums: \n",
      "[  0   0   6  12  14   0  70   0   0   0   8  42  45  41 670 673 674 674\n",
      " 674 672 673 673 672 674 674 674 674 674 671 672 673 674 674 674 673 672\n",
      " 674 674 674 674 674 674 673 674 674 674 674 674 674 674 674 674 674 674\n",
      " 674 674 674 674 674 674 674 674 674 674]\n"
     ]
    }
   ],
   "source": [
    "print(\"Length of the data frame: \", len(df))\n",
    "print(\"Number of NaNs in colums: \")\n",
    "print(df.isna().sum().values)"
   ]
  },
  {
   "cell_type": "markdown",
   "metadata": {},
   "source": [
    "We have a lot of colums with only 1 (or several) not NaN values, they are quite specific as represent answers to special qeustions/statements. We can drop them for the futute analysis and better visualisation."
   ]
  },
  {
   "cell_type": "code",
   "execution_count": 39,
   "metadata": {},
   "outputs": [
    {
     "data": {
      "text/plain": [
       "Index(['Description_entities', 'What they're looking for_entities',\n",
       "       '4flow is a global firm_entities', 'Become a 4flower!_entities',\n",
       "       'What you should know_entities', 'Présentation_entities',\n",
       "       'Company Introduction_entities', 'Who Are They Looking for_entities',\n",
       "       'Good to Know_entities', 'Le nom B-HIVE _entities',\n",
       "       'Yves Rocher_entities', 'Petit Bateau_entities',\n",
       "       'People Connected inspiring meaningful experiences._entities',\n",
       "       'Unleash your potential in an empowering culture_entities',\n",
       "       'About_entities', 'Who Are They Looking For_entities',\n",
       "       'Good To Know_entities', 'Looking for_entities',\n",
       "       'About company_entities', 'We are looking for..._entities',\n",
       "       ' _entities', 'About the company_entities',\n",
       "       'Who we are looking for_entities', 'It's good to know_entities',\n",
       "       'Are you the right fit? _entities', 'Life At Philips_entities',\n",
       "       'O Danone_entities', 'Koho hledají_entities',\n",
       "       'Who they're looking for_entities',\n",
       "       'IT at the world’s leading logistics company_entities',\n",
       "       'IT paradise_entities', 'Parenthood in focus_entities',\n",
       "       'They will boost you up_entities',\n",
       "       'Sustainability is second nature to them_entities',\n",
       "       'Thrive in a diverse environment_entities',\n",
       "       'About the organization_entities', 'Company presentation _entities',\n",
       "       'Who will feel great at GRC?_entities', 'Still in Doubt?_entities',\n",
       "       'Nos +_entities', 'Description _entities', 'About Loono_entities',\n",
       "       'The story of Livesport_entities', 'What is good to know_entities',\n",
       "       'Who are they looking for_entities',\n",
       "       'The beating IT heart of Heidelberg Materials_entities',\n",
       "       'A great match for the team_entities',\n",
       "       'A place you never get bored of_entities', 'About us_entities',\n",
       "       'What are they looking for ?_entities'],\n",
       "      dtype='object')"
      ]
     },
     "execution_count": 39,
     "metadata": {},
     "output_type": "execute_result"
    }
   ],
   "source": [
    "# names of these columns\n",
    "df.columns[df.isna().sum().values > 669]"
   ]
  },
  {
   "cell_type": "code",
   "execution_count": null,
   "metadata": {},
   "outputs": [
    {
     "data": {
      "text/plain": [
       "Index(['name', 'sector', 'website', 'year_of_founding', 'employees',\n",
       "       'gender_breakdown', 'average_age', 'social_links', 'text_blocks', 'id',\n",
       "       'Language', 'Presentation_entities',\n",
       "       'What they are looking for_entities', 'Good to know_entities'],\n",
       "      dtype='object')"
      ]
     },
     "execution_count": 49,
     "metadata": {},
     "output_type": "execute_result"
    }
   ],
   "source": [
    "# names of regular columns\n",
    "df.columns[~(df.isna().sum().values > 669)]"
   ]
  },
  {
   "cell_type": "markdown",
   "metadata": {},
   "source": [
    "Let's keep them"
   ]
  },
  {
   "cell_type": "code",
   "execution_count": 24,
   "metadata": {},
   "outputs": [],
   "source": [
    "df = df[df.columns[df.isna().sum().values < 670]]"
   ]
  },
  {
   "cell_type": "code",
   "execution_count": 32,
   "metadata": {},
   "outputs": [
    {
     "data": {
      "text/html": [
       "<div>\n",
       "<style scoped>\n",
       "    .dataframe tbody tr th:only-of-type {\n",
       "        vertical-align: middle;\n",
       "    }\n",
       "\n",
       "    .dataframe tbody tr th {\n",
       "        vertical-align: top;\n",
       "    }\n",
       "\n",
       "    .dataframe thead th {\n",
       "        text-align: right;\n",
       "    }\n",
       "</style>\n",
       "<table border=\"1\" class=\"dataframe\">\n",
       "  <thead>\n",
       "    <tr style=\"text-align: right;\">\n",
       "      <th></th>\n",
       "      <th>name</th>\n",
       "      <th>sector</th>\n",
       "      <th>website</th>\n",
       "      <th>year_of_founding</th>\n",
       "      <th>employees</th>\n",
       "      <th>gender_breakdown</th>\n",
       "      <th>average_age</th>\n",
       "      <th>social_links</th>\n",
       "      <th>text_blocks</th>\n",
       "      <th>id</th>\n",
       "      <th>Language</th>\n",
       "      <th>Presentation_entities</th>\n",
       "      <th>What they are looking for_entities</th>\n",
       "      <th>Good to know_entities</th>\n",
       "    </tr>\n",
       "  </thead>\n",
       "  <tbody>\n",
       "    <tr>\n",
       "      <th>0</th>\n",
       "      <td>Filigran</td>\n",
       "      <td>[Cyber Security, SaaS, Cloud Services, Software]</td>\n",
       "      <td>https://www.filigran.io</td>\n",
       "      <td>2022.0</td>\n",
       "      <td>74.0</td>\n",
       "      <td>{'women': '37', 'men': '63'}</td>\n",
       "      <td>36.0</td>\n",
       "      <td>{'facebook': 'https://www.facebook.com/Filigra...</td>\n",
       "      <td>{'Presentation': 'Filigran provides cyber thre...</td>\n",
       "      <td>136</td>\n",
       "      <td>en</td>\n",
       "      <td>{'organizations': ['Filigran'], 'locations': [...</td>\n",
       "      <td>{}</td>\n",
       "      <td>{'locations': ['Strong', 'France'], 'organizat...</td>\n",
       "    </tr>\n",
       "    <tr>\n",
       "      <th>1</th>\n",
       "      <td>Atomic Digital Design</td>\n",
       "      <td>[Digital]</td>\n",
       "      <td>https://atomicdigital.design</td>\n",
       "      <td>2012.0</td>\n",
       "      <td>70.0</td>\n",
       "      <td>{'women': '35', 'men': '65'}</td>\n",
       "      <td>31.0</td>\n",
       "      <td>{'instagram': 'https://instagram.com/atomicdig...</td>\n",
       "      <td>{'Presentation': 'Founded by Antoine Vu, winne...</td>\n",
       "      <td>57</td>\n",
       "      <td>en</td>\n",
       "      <td>{'people': ['Gabriel Picard', 'Atomic Digital ...</td>\n",
       "      <td>{}</td>\n",
       "      <td>{'people': ['Adidas', 'Cartier', 'Lancôme', 'A...</td>\n",
       "    </tr>\n",
       "    <tr>\n",
       "      <th>2</th>\n",
       "      <td>Oncrawl</td>\n",
       "      <td>[Digital Marketing, Data Marketing]</td>\n",
       "      <td>https://www.oncrawl.com</td>\n",
       "      <td>2013.0</td>\n",
       "      <td>34.0</td>\n",
       "      <td>{'women': '40', 'men': '60'}</td>\n",
       "      <td>31.0</td>\n",
       "      <td>{'linkedin': 'https://www.linkedin.com/company...</td>\n",
       "      <td>{'Presentation': 'Oncrawl provides data for te...</td>\n",
       "      <td>553</td>\n",
       "      <td>en</td>\n",
       "      <td>{'organizations': ['Oncrawl', 'Forbes', 'Lastm...</td>\n",
       "      <td>{'organizations': ['Oncrawl', 'SEO']}</td>\n",
       "      <td>{}</td>\n",
       "    </tr>\n",
       "  </tbody>\n",
       "</table>\n",
       "</div>"
      ],
      "text/plain": [
       "                    name                                            sector  \\\n",
       "0               Filigran  [Cyber Security, SaaS, Cloud Services, Software]   \n",
       "1  Atomic Digital Design                                         [Digital]   \n",
       "2                Oncrawl               [Digital Marketing, Data Marketing]   \n",
       "\n",
       "                        website  year_of_founding  employees  \\\n",
       "0       https://www.filigran.io            2022.0       74.0   \n",
       "1  https://atomicdigital.design            2012.0       70.0   \n",
       "2       https://www.oncrawl.com            2013.0       34.0   \n",
       "\n",
       "               gender_breakdown  average_age  \\\n",
       "0  {'women': '37', 'men': '63'}         36.0   \n",
       "1  {'women': '35', 'men': '65'}         31.0   \n",
       "2  {'women': '40', 'men': '60'}         31.0   \n",
       "\n",
       "                                        social_links  \\\n",
       "0  {'facebook': 'https://www.facebook.com/Filigra...   \n",
       "1  {'instagram': 'https://instagram.com/atomicdig...   \n",
       "2  {'linkedin': 'https://www.linkedin.com/company...   \n",
       "\n",
       "                                         text_blocks   id Language  \\\n",
       "0  {'Presentation': 'Filigran provides cyber thre...  136       en   \n",
       "1  {'Presentation': 'Founded by Antoine Vu, winne...   57       en   \n",
       "2  {'Presentation': 'Oncrawl provides data for te...  553       en   \n",
       "\n",
       "                               Presentation_entities  \\\n",
       "0  {'organizations': ['Filigran'], 'locations': [...   \n",
       "1  {'people': ['Gabriel Picard', 'Atomic Digital ...   \n",
       "2  {'organizations': ['Oncrawl', 'Forbes', 'Lastm...   \n",
       "\n",
       "      What they are looking for_entities  \\\n",
       "0                                     {}   \n",
       "1                                     {}   \n",
       "2  {'organizations': ['Oncrawl', 'SEO']}   \n",
       "\n",
       "                               Good to know_entities  \n",
       "0  {'locations': ['Strong', 'France'], 'organizat...  \n",
       "1  {'people': ['Adidas', 'Cartier', 'Lancôme', 'A...  \n",
       "2                                                 {}  "
      ]
     },
     "execution_count": 32,
     "metadata": {},
     "output_type": "execute_result"
    }
   ],
   "source": [
    "df.head(3)"
   ]
  },
  {
   "cell_type": "code",
   "execution_count": 33,
   "metadata": {},
   "outputs": [
    {
     "data": {
      "text/plain": [
       "name                                   0\n",
       "sector                                 0\n",
       "website                                6\n",
       "year_of_founding                      12\n",
       "employees                             14\n",
       "gender_breakdown                       0\n",
       "average_age                           70\n",
       "social_links                           0\n",
       "text_blocks                            0\n",
       "id                                     0\n",
       "Language                               8\n",
       "Presentation_entities                 42\n",
       "What they are looking for_entities    45\n",
       "Good to know_entities                 41\n",
       "dtype: int64"
      ]
     },
     "execution_count": 33,
     "metadata": {},
     "output_type": "execute_result"
    }
   ],
   "source": [
    "df.isna().sum()"
   ]
  },
  {
   "cell_type": "markdown",
   "metadata": {},
   "source": [
    "### Now we can compute some statistics "
   ]
  },
  {
   "cell_type": "code",
   "execution_count": 25,
   "metadata": {},
   "outputs": [
    {
     "name": "stdout",
     "output_type": "stream",
     "text": [
      "Number of unique companies:  675\n"
     ]
    }
   ],
   "source": [
    "# Number of unique companies\n",
    "print(\"Number of unique companies: \", df[\"name\"].nunique())"
   ]
  },
  {
   "cell_type": "markdown",
   "metadata": {},
   "source": [
    "#### Average founding year"
   ]
  },
  {
   "cell_type": "code",
   "execution_count": null,
   "metadata": {},
   "outputs": [
    {
     "name": "stdout",
     "output_type": "stream",
     "text": [
      "Average founding year:  2006.0\n"
     ]
    }
   ],
   "source": [
    "print(\"Average founding year: \", np.floor(df['year_of_founding'].mean()))"
   ]
  },
  {
   "cell_type": "markdown",
   "metadata": {},
   "source": [
    "#### Average age"
   ]
  },
  {
   "cell_type": "code",
   "execution_count": 27,
   "metadata": {},
   "outputs": [
    {
     "name": "stdout",
     "output_type": "stream",
     "text": [
      "Average employees age:  32.0\n"
     ]
    }
   ],
   "source": [
    "print(\"Average employees age: \", np.floor(df['average_age'].mean()))"
   ]
  },
  {
   "cell_type": "markdown",
   "metadata": {},
   "source": [
    "#### Average number of employees"
   ]
  },
  {
   "cell_type": "code",
   "execution_count": 28,
   "metadata": {},
   "outputs": [
    {
     "name": "stdout",
     "output_type": "stream",
     "text": [
      "Average number of employees:  2463.0\n"
     ]
    }
   ],
   "source": [
    "print(\"Average number of employees: \", np.floor(df['employees'].mean()))"
   ]
  },
  {
   "cell_type": "markdown",
   "metadata": {},
   "source": [
    "### Let's explore some Gender Biases"
   ]
  },
  {
   "cell_type": "code",
   "execution_count": 29,
   "metadata": {},
   "outputs": [
    {
     "name": "stdout",
     "output_type": "stream",
     "text": [
      "Average male percentage: 58.06054279749478\n",
      "Average female percentage: 41.93945720250522\n",
      "No data in  196 cases\n"
     ]
    }
   ],
   "source": [
    "tmp = {\"men\": 0, \"women\": 0}\n",
    "total = 0\n",
    "\n",
    "# count the sum of ratios\n",
    "for item in df['gender_breakdown']:\n",
    "    if item['men'] and item['women']:\n",
    "        tmp['men'] += int(item['men'])\n",
    "        tmp['women'] += int(item['women'])\n",
    "        total += 1\n",
    "\n",
    "print(\"Average male percentage:\", tmp['men'] / total)\n",
    "print(\"Average female percentage:\", tmp['women'] / total)\n",
    "\n",
    "print(\"No data in \", len(df) - total, \"cases\")"
   ]
  },
  {
   "cell_type": "markdown",
   "metadata": {},
   "source": [
    "### Now, Let's take a look at sectors"
   ]
  },
  {
   "cell_type": "code",
   "execution_count": 30,
   "metadata": {},
   "outputs": [
    {
     "name": "stdout",
     "output_type": "stream",
     "text": [
      "Top-10 most popular sectors (asc.): \n",
      "                    sector  count\n",
      "0                     SaaS    198\n",
      "1           Cloud Services    198\n",
      "2                 Software    160\n",
      "3                  Digital     98\n",
      "4  Artificial Intelligence     96\n",
      "5         Machine Learning     96\n",
      "6              Mobile Apps     73\n",
      "7                       IT     68\n",
      "8                  FinTech     62\n",
      "9                InsurTech     62\n"
     ]
    }
   ],
   "source": [
    "# count occurences for each sector\n",
    "tmp = defaultdict(int)\n",
    "for s in df['sector']:\n",
    "    for it in s:\n",
    "        tmp[it] += 1\n",
    "\n",
    "# print top-10 most popular sectors\n",
    "print(\"Top-10 most popular sectors (asc.): \")\n",
    "print(pd.DataFrame(sorted(tmp.items(), key=lambda item: item[1], reverse=True)[:10], columns=[\"sector\", \"count\"]))"
   ]
  },
  {
   "cell_type": "markdown",
   "metadata": {},
   "source": [
    "#### And also the main language of a company"
   ]
  },
  {
   "cell_type": "code",
   "execution_count": 31,
   "metadata": {},
   "outputs": [
    {
     "name": "stdout",
     "output_type": "stream",
     "text": [
      "('en', 627) ('cs', 4) ('vi', 1) ('fr', 34) (nan, 8) ('de', 1)\n"
     ]
    }
   ],
   "source": [
    "langs = defaultdict(int)\n",
    "\n",
    "for lang in df['Language']:\n",
    "    if lang:\n",
    "        langs[lang] += 1\n",
    "print(*langs.items())"
   ]
  }
 ],
 "metadata": {
  "kernelspec": {
   "display_name": "gpu_t",
   "language": "python",
   "name": "python3"
  },
  "language_info": {
   "codemirror_mode": {
    "name": "ipython",
    "version": 3
   },
   "file_extension": ".py",
   "mimetype": "text/x-python",
   "name": "python",
   "nbconvert_exporter": "python",
   "pygments_lexer": "ipython3",
   "version": "3.12.7"
  }
 },
 "nbformat": 4,
 "nbformat_minor": 2
}
