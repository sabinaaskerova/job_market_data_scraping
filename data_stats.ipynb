{
 "cells": [
  {
   "cell_type": "code",
   "execution_count": null,
   "metadata": {},
   "outputs": [],
   "source": [
    "import numpy as np\n",
    "import pandas as pd\n",
    "from collections import defaultdict"
   ]
  },
  {
   "cell_type": "markdown",
   "metadata": {},
   "source": [
    "Load the data"
   ]
  },
  {
   "cell_type": "code",
   "execution_count": 2,
   "metadata": {},
   "outputs": [
    {
     "data": {
      "text/html": [
       "<div>\n",
       "<style scoped>\n",
       "    .dataframe tbody tr th:only-of-type {\n",
       "        vertical-align: middle;\n",
       "    }\n",
       "\n",
       "    .dataframe tbody tr th {\n",
       "        vertical-align: top;\n",
       "    }\n",
       "\n",
       "    .dataframe thead th {\n",
       "        text-align: right;\n",
       "    }\n",
       "</style>\n",
       "<table border=\"1\" class=\"dataframe\">\n",
       "  <thead>\n",
       "    <tr style=\"text-align: right;\">\n",
       "      <th></th>\n",
       "      <th>name</th>\n",
       "      <th>sector</th>\n",
       "      <th>website</th>\n",
       "      <th>year_of_founding</th>\n",
       "      <th>employees</th>\n",
       "      <th>gender_breakdown</th>\n",
       "      <th>average_age</th>\n",
       "      <th>social_links</th>\n",
       "      <th>text_blocks</th>\n",
       "      <th>id</th>\n",
       "      <th>Language</th>\n",
       "    </tr>\n",
       "  </thead>\n",
       "  <tbody>\n",
       "    <tr>\n",
       "      <th>0</th>\n",
       "      <td>Basikon</td>\n",
       "      <td>[FinTech, InsurTech, Finance, Software]</td>\n",
       "      <td>http://www.basikon.com</td>\n",
       "      <td>2019.0</td>\n",
       "      <td>36.0</td>\n",
       "      <td>{'women': None, 'men': None}</td>\n",
       "      <td>NaN</td>\n",
       "      <td>{'linkedin': 'https://www.linkedin.com/company...</td>\n",
       "      <td>{'Presentation': 'Founded in 2019, Basikon's m...</td>\n",
       "      <td>38</td>\n",
       "      <td>en</td>\n",
       "    </tr>\n",
       "    <tr>\n",
       "      <th>1</th>\n",
       "      <td>Kameleoon</td>\n",
       "      <td>[Big Data, SaaS, Cloud Services]</td>\n",
       "      <td>http://www.kameleoon.com/fr</td>\n",
       "      <td>2012.0</td>\n",
       "      <td>135.0</td>\n",
       "      <td>{'women': '50', 'men': '50'}</td>\n",
       "      <td>29.0</td>\n",
       "      <td>{'facebook': 'https://www.facebook.com/kameleo...</td>\n",
       "      <td>{'Presentation': 'Kameleoon empowers brands to...</td>\n",
       "      <td>583</td>\n",
       "      <td>en</td>\n",
       "    </tr>\n",
       "    <tr>\n",
       "      <th>2</th>\n",
       "      <td>APIDAY</td>\n",
       "      <td>[Artificial Intelligence, Machine Learning, Sa...</td>\n",
       "      <td>https://apiday.com</td>\n",
       "      <td>2021.0</td>\n",
       "      <td>39.0</td>\n",
       "      <td>{'women': '49', 'men': '51'}</td>\n",
       "      <td>30.0</td>\n",
       "      <td>{'linkedin': 'https://www.linkedin.com/company...</td>\n",
       "      <td>{'Presentation': 'Apiday is a next-generation ...</td>\n",
       "      <td>76</td>\n",
       "      <td>en</td>\n",
       "    </tr>\n",
       "    <tr>\n",
       "      <th>3</th>\n",
       "      <td>Ever Dye</td>\n",
       "      <td>[Fashion, SocialTech, GreenTech, Specialised E...</td>\n",
       "      <td>https://everdye.fr</td>\n",
       "      <td>2021.0</td>\n",
       "      <td>16.0</td>\n",
       "      <td>{'women': '55', 'men': '45'}</td>\n",
       "      <td>32.0</td>\n",
       "      <td>{'linkedin': 'https://www.linkedin.com/company...</td>\n",
       "      <td>{'Presentation': 'Ever Dye is on a mission to ...</td>\n",
       "      <td>150</td>\n",
       "      <td>en</td>\n",
       "    </tr>\n",
       "    <tr>\n",
       "      <th>4</th>\n",
       "      <td>Vulog</td>\n",
       "      <td>[Collaborative Economy, Mobility, SaaS, Cloud ...</td>\n",
       "      <td>https://www.vulog.com</td>\n",
       "      <td>2006.0</td>\n",
       "      <td>100.0</td>\n",
       "      <td>{'women': None, 'men': None}</td>\n",
       "      <td>35.0</td>\n",
       "      <td>{'instagram': 'https://instagram.com/vulog_tec...</td>\n",
       "      <td>{'Presentation': 'Vulog is the world's leading...</td>\n",
       "      <td>838</td>\n",
       "      <td>en</td>\n",
       "    </tr>\n",
       "  </tbody>\n",
       "</table>\n",
       "</div>"
      ],
      "text/plain": [
       "        name                                             sector  \\\n",
       "0    Basikon            [FinTech, InsurTech, Finance, Software]   \n",
       "1  Kameleoon                   [Big Data, SaaS, Cloud Services]   \n",
       "2     APIDAY  [Artificial Intelligence, Machine Learning, Sa...   \n",
       "3   Ever Dye  [Fashion, SocialTech, GreenTech, Specialised E...   \n",
       "4      Vulog  [Collaborative Economy, Mobility, SaaS, Cloud ...   \n",
       "\n",
       "                       website  year_of_founding  employees  \\\n",
       "0       http://www.basikon.com            2019.0       36.0   \n",
       "1  http://www.kameleoon.com/fr            2012.0      135.0   \n",
       "2           https://apiday.com            2021.0       39.0   \n",
       "3           https://everdye.fr            2021.0       16.0   \n",
       "4        https://www.vulog.com            2006.0      100.0   \n",
       "\n",
       "               gender_breakdown  average_age  \\\n",
       "0  {'women': None, 'men': None}          NaN   \n",
       "1  {'women': '50', 'men': '50'}         29.0   \n",
       "2  {'women': '49', 'men': '51'}         30.0   \n",
       "3  {'women': '55', 'men': '45'}         32.0   \n",
       "4  {'women': None, 'men': None}         35.0   \n",
       "\n",
       "                                        social_links  \\\n",
       "0  {'linkedin': 'https://www.linkedin.com/company...   \n",
       "1  {'facebook': 'https://www.facebook.com/kameleo...   \n",
       "2  {'linkedin': 'https://www.linkedin.com/company...   \n",
       "3  {'linkedin': 'https://www.linkedin.com/company...   \n",
       "4  {'instagram': 'https://instagram.com/vulog_tec...   \n",
       "\n",
       "                                         text_blocks   id Language  \n",
       "0  {'Presentation': 'Founded in 2019, Basikon's m...   38       en  \n",
       "1  {'Presentation': 'Kameleoon empowers brands to...  583       en  \n",
       "2  {'Presentation': 'Apiday is a next-generation ...   76       en  \n",
       "3  {'Presentation': 'Ever Dye is on a mission to ...  150       en  \n",
       "4  {'Presentation': 'Vulog is the world's leading...  838       en  "
      ]
     },
     "execution_count": 2,
     "metadata": {},
     "output_type": "execute_result"
    }
   ],
   "source": [
    "df = pd.read_json(\"data/cleaned_company_data.json\")\n",
    "df.head()"
   ]
  },
  {
   "cell_type": "code",
   "execution_count": 3,
   "metadata": {},
   "outputs": [
    {
     "data": {
      "text/plain": [
       "Index(['name', 'sector', 'website', 'year_of_founding', 'employees',\n",
       "       'gender_breakdown', 'average_age', 'social_links', 'text_blocks', 'id',\n",
       "       'Language'],\n",
       "      dtype='object')"
      ]
     },
     "execution_count": 3,
     "metadata": {},
     "output_type": "execute_result"
    }
   ],
   "source": [
    "df.columns"
   ]
  },
  {
   "cell_type": "code",
   "execution_count": 4,
   "metadata": {},
   "outputs": [
    {
     "data": {
      "text/plain": [
       "array([ 0,  0,  6, 12, 14,  0, 70,  0,  0,  0, 19])"
      ]
     },
     "execution_count": 4,
     "metadata": {},
     "output_type": "execute_result"
    }
   ],
   "source": [
    "df.isna().sum().values"
   ]
  },
  {
   "cell_type": "code",
   "execution_count": 5,
   "metadata": {},
   "outputs": [
    {
     "data": {
      "text/plain": [
       "Index([], dtype='object')"
      ]
     },
     "execution_count": 5,
     "metadata": {},
     "output_type": "execute_result"
    }
   ],
   "source": [
    "df.columns[df.isna().sum().values > 669]"
   ]
  },
  {
   "cell_type": "code",
   "execution_count": 6,
   "metadata": {},
   "outputs": [
    {
     "data": {
      "text/plain": [
       "Index(['name', 'sector', 'website', 'year_of_founding', 'employees',\n",
       "       'gender_breakdown', 'average_age', 'social_links', 'text_blocks', 'id',\n",
       "       'Language'],\n",
       "      dtype='object')"
      ]
     },
     "execution_count": 6,
     "metadata": {},
     "output_type": "execute_result"
    }
   ],
   "source": [
    "df.columns[~(df.isna().sum().values > 669)]"
   ]
  },
  {
   "cell_type": "markdown",
   "metadata": {},
   "source": [
    "Full NaN rows:"
   ]
  },
  {
   "cell_type": "code",
   "execution_count": 10,
   "metadata": {},
   "outputs": [
    {
     "data": {
      "text/html": [
       "<div>\n",
       "<style scoped>\n",
       "    .dataframe tbody tr th:only-of-type {\n",
       "        vertical-align: middle;\n",
       "    }\n",
       "\n",
       "    .dataframe tbody tr th {\n",
       "        vertical-align: top;\n",
       "    }\n",
       "\n",
       "    .dataframe thead th {\n",
       "        text-align: right;\n",
       "    }\n",
       "</style>\n",
       "<table border=\"1\" class=\"dataframe\">\n",
       "  <thead>\n",
       "    <tr style=\"text-align: right;\">\n",
       "      <th></th>\n",
       "      <th>name</th>\n",
       "      <th>sector</th>\n",
       "      <th>website</th>\n",
       "      <th>year_of_founding</th>\n",
       "      <th>employees</th>\n",
       "      <th>gender_breakdown</th>\n",
       "      <th>average_age</th>\n",
       "      <th>social_links</th>\n",
       "      <th>text_blocks</th>\n",
       "      <th>id</th>\n",
       "      <th>Language</th>\n",
       "    </tr>\n",
       "  </thead>\n",
       "  <tbody>\n",
       "  </tbody>\n",
       "</table>\n",
       "</div>"
      ],
      "text/plain": [
       "Empty DataFrame\n",
       "Columns: [name, sector, website, year_of_founding, employees, gender_breakdown, average_age, social_links, text_blocks, id, Language]\n",
       "Index: []"
      ]
     },
     "execution_count": 10,
     "metadata": {},
     "output_type": "execute_result"
    }
   ],
   "source": [
    "df[df.isna().sum(axis=1) == df.shape[1]]"
   ]
  },
  {
   "cell_type": "code",
   "execution_count": 11,
   "metadata": {},
   "outputs": [
    {
     "data": {
      "text/plain": [
       "11"
      ]
     },
     "execution_count": 11,
     "metadata": {},
     "output_type": "execute_result"
    }
   ],
   "source": [
    "len(df.columns[df.isna().sum().values != len(df)])"
   ]
  },
  {
   "cell_type": "code",
   "execution_count": 12,
   "metadata": {},
   "outputs": [
    {
     "data": {
      "text/plain": [
       "675"
      ]
     },
     "execution_count": 12,
     "metadata": {},
     "output_type": "execute_result"
    }
   ],
   "source": [
    "df[\"name\"].nunique()"
   ]
  },
  {
   "cell_type": "markdown",
   "metadata": {},
   "source": [
    "Average founding year"
   ]
  },
  {
   "cell_type": "code",
   "execution_count": 13,
   "metadata": {},
   "outputs": [
    {
     "data": {
      "text/plain": [
       "np.float64(2006.0)"
      ]
     },
     "execution_count": 13,
     "metadata": {},
     "output_type": "execute_result"
    }
   ],
   "source": [
    "np.floor(df['year_of_founding'].mean())"
   ]
  },
  {
   "cell_type": "markdown",
   "metadata": {},
   "source": [
    "Average age"
   ]
  },
  {
   "cell_type": "code",
   "execution_count": 14,
   "metadata": {},
   "outputs": [
    {
     "data": {
      "text/plain": [
       "np.float64(32.0)"
      ]
     },
     "execution_count": 14,
     "metadata": {},
     "output_type": "execute_result"
    }
   ],
   "source": [
    "np.floor(df['average_age'].mean())"
   ]
  },
  {
   "cell_type": "markdown",
   "metadata": {},
   "source": [
    "Average employees"
   ]
  },
  {
   "cell_type": "code",
   "execution_count": 15,
   "metadata": {},
   "outputs": [
    {
     "data": {
      "text/plain": [
       "np.float64(2463.0)"
      ]
     },
     "execution_count": 15,
     "metadata": {},
     "output_type": "execute_result"
    }
   ],
   "source": [
    "np.floor(df['employees'].mean())"
   ]
  },
  {
   "cell_type": "markdown",
   "metadata": {},
   "source": [
    "Gender bias:"
   ]
  },
  {
   "cell_type": "code",
   "execution_count": 17,
   "metadata": {},
   "outputs": [
    {
     "name": "stdout",
     "output_type": "stream",
     "text": [
      "Average male percentage: 58.06054279749478\n",
      "Average female percentage: 41.93945720250522\n",
      "No data in 196 cases\n"
     ]
    }
   ],
   "source": [
    "tmp = {\"men\": 0, \"women\": 0}\n",
    "total = 0\n",
    "\n",
    "for item in df['gender_breakdown']:\n",
    "    if item['men'] and item['women']:\n",
    "        tmp['men'] += int(item['men'])\n",
    "        tmp['women'] += int(item['women'])\n",
    "        total += 1\n",
    "\n",
    "print(\"Average male percentage:\", tmp['men'] / total)\n",
    "print(\"Average female percentage:\", tmp['women'] / total)\n",
    "\n",
    "print(\"No data in\", len(df) - total, \"cases\")"
   ]
  },
  {
   "cell_type": "markdown",
   "metadata": {},
   "source": [
    "Sectors"
   ]
  },
  {
   "cell_type": "code",
   "execution_count": 19,
   "metadata": {},
   "outputs": [
    {
     "name": "stdout",
     "output_type": "stream",
     "text": [
      "                    sector  count\n",
      "0                     SaaS    198\n",
      "1           Cloud Services    198\n",
      "2                 Software    160\n",
      "3                  Digital     98\n",
      "4  Artificial Intelligence     96\n",
      "5         Machine Learning     96\n",
      "6              Mobile Apps     73\n",
      "7                       IT     68\n",
      "8                  FinTech     62\n",
      "9                InsurTech     62\n"
     ]
    }
   ],
   "source": [
    "tmp = defaultdict(int)\n",
    "for s in df['sector']:\n",
    "    for it in s:\n",
    "        tmp[it] += 1\n",
    "\n",
    "print(pd.DataFrame(sorted(tmp.items(), key=lambda item: item[1], reverse=True)[:10], columns=[\"sector\", \"count\"]))"
   ]
  },
  {
   "cell_type": "markdown",
   "metadata": {},
   "source": [
    "Language"
   ]
  },
  {
   "cell_type": "code",
   "execution_count": 20,
   "metadata": {},
   "outputs": [
    {
     "name": "stdout",
     "output_type": "stream",
     "text": [
      "('en', 618) ('fr', 33) ('cs', 3) (nan, 19) ('vi', 1) ('de', 1)\n"
     ]
    }
   ],
   "source": [
    "langs = defaultdict(int)\n",
    "\n",
    "for lang in df['Language']:\n",
    "    if lang:\n",
    "        langs[lang] += 1\n",
    "print(*langs.items())"
   ]
  },
  {
   "cell_type": "markdown",
   "metadata": {},
   "source": [
    "Remove most nan columns"
   ]
  },
  {
   "cell_type": "code",
   "execution_count": 21,
   "metadata": {},
   "outputs": [],
   "source": [
    "df_small = df[df.columns[~(df.isna().sum().values > 669)]]"
   ]
  },
  {
   "cell_type": "code",
   "execution_count": 22,
   "metadata": {},
   "outputs": [
    {
     "data": {
      "text/html": [
       "<div>\n",
       "<style scoped>\n",
       "    .dataframe tbody tr th:only-of-type {\n",
       "        vertical-align: middle;\n",
       "    }\n",
       "\n",
       "    .dataframe tbody tr th {\n",
       "        vertical-align: top;\n",
       "    }\n",
       "\n",
       "    .dataframe thead th {\n",
       "        text-align: right;\n",
       "    }\n",
       "</style>\n",
       "<table border=\"1\" class=\"dataframe\">\n",
       "  <thead>\n",
       "    <tr style=\"text-align: right;\">\n",
       "      <th></th>\n",
       "      <th>name</th>\n",
       "      <th>sector</th>\n",
       "      <th>website</th>\n",
       "      <th>year_of_founding</th>\n",
       "      <th>employees</th>\n",
       "      <th>gender_breakdown</th>\n",
       "      <th>average_age</th>\n",
       "      <th>social_links</th>\n",
       "      <th>text_blocks</th>\n",
       "      <th>id</th>\n",
       "      <th>Language</th>\n",
       "    </tr>\n",
       "  </thead>\n",
       "  <tbody>\n",
       "    <tr>\n",
       "      <th>0</th>\n",
       "      <td>Basikon</td>\n",
       "      <td>[FinTech, InsurTech, Finance, Software]</td>\n",
       "      <td>http://www.basikon.com</td>\n",
       "      <td>2019.0</td>\n",
       "      <td>36.0</td>\n",
       "      <td>{'women': None, 'men': None}</td>\n",
       "      <td>NaN</td>\n",
       "      <td>{'linkedin': 'https://www.linkedin.com/company...</td>\n",
       "      <td>{'Presentation': 'Founded in 2019, Basikon's m...</td>\n",
       "      <td>38</td>\n",
       "      <td>en</td>\n",
       "    </tr>\n",
       "    <tr>\n",
       "      <th>1</th>\n",
       "      <td>Kameleoon</td>\n",
       "      <td>[Big Data, SaaS, Cloud Services]</td>\n",
       "      <td>http://www.kameleoon.com/fr</td>\n",
       "      <td>2012.0</td>\n",
       "      <td>135.0</td>\n",
       "      <td>{'women': '50', 'men': '50'}</td>\n",
       "      <td>29.0</td>\n",
       "      <td>{'facebook': 'https://www.facebook.com/kameleo...</td>\n",
       "      <td>{'Presentation': 'Kameleoon empowers brands to...</td>\n",
       "      <td>583</td>\n",
       "      <td>en</td>\n",
       "    </tr>\n",
       "    <tr>\n",
       "      <th>2</th>\n",
       "      <td>APIDAY</td>\n",
       "      <td>[Artificial Intelligence, Machine Learning, Sa...</td>\n",
       "      <td>https://apiday.com</td>\n",
       "      <td>2021.0</td>\n",
       "      <td>39.0</td>\n",
       "      <td>{'women': '49', 'men': '51'}</td>\n",
       "      <td>30.0</td>\n",
       "      <td>{'linkedin': 'https://www.linkedin.com/company...</td>\n",
       "      <td>{'Presentation': 'Apiday is a next-generation ...</td>\n",
       "      <td>76</td>\n",
       "      <td>en</td>\n",
       "    </tr>\n",
       "    <tr>\n",
       "      <th>3</th>\n",
       "      <td>Ever Dye</td>\n",
       "      <td>[Fashion, SocialTech, GreenTech, Specialised E...</td>\n",
       "      <td>https://everdye.fr</td>\n",
       "      <td>2021.0</td>\n",
       "      <td>16.0</td>\n",
       "      <td>{'women': '55', 'men': '45'}</td>\n",
       "      <td>32.0</td>\n",
       "      <td>{'linkedin': 'https://www.linkedin.com/company...</td>\n",
       "      <td>{'Presentation': 'Ever Dye is on a mission to ...</td>\n",
       "      <td>150</td>\n",
       "      <td>en</td>\n",
       "    </tr>\n",
       "    <tr>\n",
       "      <th>4</th>\n",
       "      <td>Vulog</td>\n",
       "      <td>[Collaborative Economy, Mobility, SaaS, Cloud ...</td>\n",
       "      <td>https://www.vulog.com</td>\n",
       "      <td>2006.0</td>\n",
       "      <td>100.0</td>\n",
       "      <td>{'women': None, 'men': None}</td>\n",
       "      <td>35.0</td>\n",
       "      <td>{'instagram': 'https://instagram.com/vulog_tec...</td>\n",
       "      <td>{'Presentation': 'Vulog is the world's leading...</td>\n",
       "      <td>838</td>\n",
       "      <td>en</td>\n",
       "    </tr>\n",
       "  </tbody>\n",
       "</table>\n",
       "</div>"
      ],
      "text/plain": [
       "        name                                             sector  \\\n",
       "0    Basikon            [FinTech, InsurTech, Finance, Software]   \n",
       "1  Kameleoon                   [Big Data, SaaS, Cloud Services]   \n",
       "2     APIDAY  [Artificial Intelligence, Machine Learning, Sa...   \n",
       "3   Ever Dye  [Fashion, SocialTech, GreenTech, Specialised E...   \n",
       "4      Vulog  [Collaborative Economy, Mobility, SaaS, Cloud ...   \n",
       "\n",
       "                       website  year_of_founding  employees  \\\n",
       "0       http://www.basikon.com            2019.0       36.0   \n",
       "1  http://www.kameleoon.com/fr            2012.0      135.0   \n",
       "2           https://apiday.com            2021.0       39.0   \n",
       "3           https://everdye.fr            2021.0       16.0   \n",
       "4        https://www.vulog.com            2006.0      100.0   \n",
       "\n",
       "               gender_breakdown  average_age  \\\n",
       "0  {'women': None, 'men': None}          NaN   \n",
       "1  {'women': '50', 'men': '50'}         29.0   \n",
       "2  {'women': '49', 'men': '51'}         30.0   \n",
       "3  {'women': '55', 'men': '45'}         32.0   \n",
       "4  {'women': None, 'men': None}         35.0   \n",
       "\n",
       "                                        social_links  \\\n",
       "0  {'linkedin': 'https://www.linkedin.com/company...   \n",
       "1  {'facebook': 'https://www.facebook.com/kameleo...   \n",
       "2  {'linkedin': 'https://www.linkedin.com/company...   \n",
       "3  {'linkedin': 'https://www.linkedin.com/company...   \n",
       "4  {'instagram': 'https://instagram.com/vulog_tec...   \n",
       "\n",
       "                                         text_blocks   id Language  \n",
       "0  {'Presentation': 'Founded in 2019, Basikon's m...   38       en  \n",
       "1  {'Presentation': 'Kameleoon empowers brands to...  583       en  \n",
       "2  {'Presentation': 'Apiday is a next-generation ...   76       en  \n",
       "3  {'Presentation': 'Ever Dye is on a mission to ...  150       en  \n",
       "4  {'Presentation': 'Vulog is the world's leading...  838       en  "
      ]
     },
     "execution_count": 22,
     "metadata": {},
     "output_type": "execute_result"
    }
   ],
   "source": [
    "df_small.head()"
   ]
  },
  {
   "cell_type": "code",
   "execution_count": 23,
   "metadata": {},
   "outputs": [
    {
     "data": {
      "text/plain": [
       "name                 0\n",
       "sector               0\n",
       "website              6\n",
       "year_of_founding    12\n",
       "employees           14\n",
       "gender_breakdown     0\n",
       "average_age         70\n",
       "social_links         0\n",
       "text_blocks          0\n",
       "id                   0\n",
       "Language            19\n",
       "dtype: int64"
      ]
     },
     "execution_count": 23,
     "metadata": {},
     "output_type": "execute_result"
    }
   ],
   "source": [
    "df_small.isna().sum()"
   ]
  },
  {
   "cell_type": "code",
   "execution_count": null,
   "metadata": {},
   "outputs": [],
   "source": []
  }
 ],
 "metadata": {
  "kernelspec": {
   "display_name": ".venv",
   "language": "python",
   "name": "python3"
  },
  "language_info": {
   "codemirror_mode": {
    "name": "ipython",
    "version": 3
   },
   "file_extension": ".py",
   "mimetype": "text/x-python",
   "name": "python",
   "nbconvert_exporter": "python",
   "pygments_lexer": "ipython3",
   "version": "3.11.9"
  }
 },
 "nbformat": 4,
 "nbformat_minor": 2
}
